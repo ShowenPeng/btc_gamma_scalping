{
 "cells": [
  {
   "cell_type": "code",
   "execution_count": 6,
   "metadata": {},
   "outputs": [
    {
     "ename": "ModuleNotFoundError",
     "evalue": "No module named 'pandas'",
     "output_type": "error",
     "traceback": [
      "\u001b[31m---------------------------------------------------------------------------\u001b[39m",
      "\u001b[31mModuleNotFoundError\u001b[39m                       Traceback (most recent call last)",
      "\u001b[36mCell\u001b[39m\u001b[36m \u001b[39m\u001b[32mIn[6]\u001b[39m\u001b[32m, line 2\u001b[39m\n\u001b[32m      1\u001b[39m \u001b[38;5;66;03m# BTC Gamma Scalping 回测可视化\u001b[39;00m\n\u001b[32m----> \u001b[39m\u001b[32m2\u001b[39m \u001b[38;5;28;01mimport\u001b[39;00m\u001b[38;5;250m \u001b[39m\u001b[34;01mpandas\u001b[39;00m\u001b[38;5;250m \u001b[39m\u001b[38;5;28;01mas\u001b[39;00m\u001b[38;5;250m \u001b[39m\u001b[34;01mpd\u001b[39;00m\n\u001b[32m      3\u001b[39m \u001b[38;5;28;01mimport\u001b[39;00m\u001b[38;5;250m \u001b[39m\u001b[34;01mmatplotlib\u001b[39;00m\u001b[34;01m.\u001b[39;00m\u001b[34;01mpyplot\u001b[39;00m\u001b[38;5;250m \u001b[39m\u001b[38;5;28;01mas\u001b[39;00m\u001b[38;5;250m \u001b[39m\u001b[34;01mplt\u001b[39;00m\n\u001b[32m      4\u001b[39m \u001b[38;5;28;01mfrom\u001b[39;00m\u001b[38;5;250m \u001b[39m\u001b[34;01mdata_loader\u001b[39;00m\u001b[38;5;250m \u001b[39m\u001b[38;5;28;01mimport\u001b[39;00m DataLoader\n",
      "\u001b[31mModuleNotFoundError\u001b[39m: No module named 'pandas'"
     ]
    }
   ],
   "source": [
    "# BTC Gamma Scalping 回测可视化\n",
    "import pandas as pd\n",
    "import matplotlib.pyplot as plt\n",
    "from data_loader import DataLoader\n",
    "from engine import GammaScalping\n",
    "\n",
    "# 参数设置\n",
    "params = {\n",
    "    \"start_date\": \"2020-01-01\",\n",
    "    \"end_date\": \"2023-12-31\",\n",
    "    \"initial_capital\": 1.0,\n",
    "    \"hedge_freq_days\": 2\n",
    "}\n",
    "\n",
    "# 数据加载\n",
    "loader = DataLoader(\"your_data.csv\")\n",
    "expiry = loader.get_third_friday(2020, 1)\n",
    "df = loader.add_expiry_days(expiry)\n",
    "\n",
    "# 策略初始化\n",
    "engine = GammaScalping(df, params[\"initial_capital\"], params[\"hedge_freq_days\"])\n",
    "\n",
    "results = []\n",
    "for idx, row in df.iterrows():\n",
    "    today = row['Date'].date()\n",
    "    # 到期日建仓\n",
    "    if today == row['Expiry']:\n",
    "        if engine.current_position:\n",
    "            engine.close_position(row)\n",
    "        engine.open_position(row)\n",
    "    # 对冲\n",
    "    if engine.current_position and (engine.last_hedge_day is None or (today - engine.last_hedge_day).days >= params[\"hedge_freq_days\"]):\n",
    "        call_delta, put_delta, perp_delta, total_delta = engine.delta_hedging(row, today)\n",
    "    else:\n",
    "        call_delta = put_delta = perp_delta = total_delta = 0.0\n",
    "    # 组合跟踪\n",
    "    if engine.current_position:\n",
    "        record = engine.track_portfolio(row, call_delta, put_delta, perp_delta, total_delta)\n",
    "        results.append(record)\n",
    "\n",
    "# 输出结果表\n",
    "result_df = pd.DataFrame(results)\n",
    "display(result_df)\n",
    "\n",
    "# 净值曲线\n",
    "plt.figure(figsize=(12, 6))\n",
    "plt.plot(result_df['Date'], result_df['TotalAsset'])\n",
    "plt.title(\"BTC Gamma Scalping 策略净值曲线\")\n",
    "plt.xlabel(\"日期\")\n",
    "plt.ylabel(\"总资产 (BTC)\")\n",
    "plt.grid()\n",
    "plt.show()\n",
    "\n",
    "# 最大回撤\n",
    "roll_max = result_df['TotalAsset'].cummax()\n",
    "drawdown = (result_df['TotalAsset'] - roll_max) / roll_max\n",
    "max_drawdown = drawdown.min()\n",
    "print(f\"最大回撤: {max_drawdown:.2%}\")\n",
    "\n",
    "# 夏普比率\n",
    "returns = result_df['TotalAsset'].pct_change().dropna()\n",
    "sharpe = returns.mean() / returns.std() * (252 ** 0.5)\n",
    "print(f\"夏普比率: {sharpe:.2f}\")"
   ]
  }
 ],
 "metadata": {
  "kernelspec": {
   "display_name": "Python [conda env:base] *",
   "language": "python",
   "name": "conda-base-py"
  },
  "language_info": {
   "codemirror_mode": {
    "name": "ipython",
    "version": 3
   },
   "file_extension": ".py",
   "mimetype": "text/x-python",
   "name": "python",
   "nbconvert_exporter": "python",
   "pygments_lexer": "ipython3",
   "version": "3.11.5"
  }
 },
 "nbformat": 4,
 "nbformat_minor": 4
}
